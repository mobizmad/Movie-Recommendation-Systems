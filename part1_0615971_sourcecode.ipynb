{
  "nbformat": 4,
  "nbformat_minor": 0,
  "metadata": {
    "colab": {
      "provenance": []
    },
    "kernelspec": {
      "name": "python3",
      "display_name": "Python 3"
    },
    "language_info": {
      "name": "python"
    }
  },
  "cells": [
    {
      "cell_type": "code",
      "source": [
        "from google.colab import drive\n",
        "drive.mount('/content/drive')"
      ],
      "metadata": {
        "colab": {
          "base_uri": "https://localhost:8080/"
        },
        "id": "k1SjCztZRhL5",
        "outputId": "be2afd3c-c417-4c9a-8961-f2c3d0920256"
      },
      "execution_count": null,
      "outputs": [
        {
          "output_type": "stream",
          "name": "stdout",
          "text": [
            "Mounted at /content/drive\n"
          ]
        }
      ]
    },
    {
      "cell_type": "markdown",
      "source": [
        "Load Users\n",
        "\n",
        "\n",
        "\n"
      ],
      "metadata": {
        "id": "NM0VdPVQCq9x"
      }
    },
    {
      "cell_type": "code",
      "execution_count": null,
      "metadata": {
        "id": "x1LYv2thzMsQ"
      },
      "outputs": [],
      "source": [
        "def load_users(file_path):\n",
        "    users = {}\n",
        "    with open(file_path, 'r', encoding='utf-8') as file:\n",
        "        for line in file:\n",
        "            parts = line.strip().split('\\t')\n",
        "            user_id = parts[0]\n",
        "            if user_id not in users:\n",
        "                users[user_id] = []\n",
        "            users[user_id].append({\n",
        "                'movie_id': parts[1],\n",
        "                'freebase_id': parts[2],\n",
        "                'movie_name': parts[3],\n",
        "                'release_year': parts[4],\n",
        "                'box_office': parts[5],\n",
        "                'runtime': parts[6],\n",
        "                'languages': parts[7],\n",
        "                'countries': parts[8],\n",
        "                'genres': parts[9],\n",
        "                'plot_summary': parts[10]\n",
        "            })\n",
        "    print(f\"Loaded {len(users)} users\")\n",
        "    return users\n"
      ]
    },
    {
      "cell_type": "markdown",
      "source": [
        "Load Movies"
      ],
      "metadata": {
        "id": "hwcI209tCvHx"
      }
    },
    {
      "cell_type": "code",
      "source": [
        "def load_movies(file_path):\n",
        "    movies = {}\n",
        "    with open(file_path, 'r', encoding='utf-8') as file:\n",
        "        for line in file:\n",
        "            parts = line.strip().split('\\t')\n",
        "            movie_id = parts[0]\n",
        "            movies[movie_id] = {\n",
        "                'freebase_id': parts[1],\n",
        "                'movie_name': parts[2],\n",
        "                'release_year': parts[3],\n",
        "                'box_office': parts[4],\n",
        "                'runtime': parts[5],\n",
        "                'languages': parts[6],\n",
        "                'countries': parts[7],\n",
        "                'genres': parts[8],\n",
        "                'plot_summary': parts[9]\n",
        "            }\n",
        "    print(f\"Loaded {len(movies)} movies\")\n",
        "    return movies\n",
        "\n",
        "\n"
      ],
      "metadata": {
        "id": "7cjsipak0Str"
      },
      "execution_count": null,
      "outputs": []
    },
    {
      "cell_type": "markdown",
      "source": [
        "Create profile"
      ],
      "metadata": {
        "id": "tWLAjFLZC1wd"
      }
    },
    {
      "cell_type": "code",
      "source": [
        "def create_user_profiles(users):\n",
        "    user_profiles = {}\n",
        "    for user_id, movies in users.items():\n",
        "        genre_count = {}\n",
        "        for movie in movies:\n",
        "            genres = movie['genres'].split(', ')\n",
        "            for genre in genres:\n",
        "                genre = genre.split(': ')[1].strip('\"\"}')\n",
        "                if genre in genre_count:\n",
        "                    genre_count[genre] += 1\n",
        "                else:\n",
        "                    genre_count[genre] = 1\n",
        "        total_movies = len(movies)\n",
        "        user_profiles[user_id] = {genre: count / total_movies for genre, count in genre_count.items()}\n",
        "    return user_profiles\n"
      ],
      "metadata": {
        "id": "LLNEV7W70Vh6"
      },
      "execution_count": null,
      "outputs": []
    },
    {
      "cell_type": "markdown",
      "source": [
        "Cosine Similarity"
      ],
      "metadata": {
        "id": "2FmuUTpkC4Pc"
      }
    },
    {
      "cell_type": "code",
      "source": [
        "import math\n",
        "def cosine_similarity(profile1, profile2):\n",
        "    dot_product = sum(profile1.get(k, 0) * profile2.get(k, 0) for k in set(profile1) | set(profile2))\n",
        "    norm1 = math.sqrt(sum(v ** 2 for v in profile1.values()))\n",
        "    norm2 = math.sqrt(sum(v ** 2 for v in profile2.values()))\n",
        "    return dot_product / (norm1 * norm2) if norm1 and norm2 else 0\n"
      ],
      "metadata": {
        "id": "9ZFtbFMc8Nde"
      },
      "execution_count": null,
      "outputs": []
    },
    {
      "cell_type": "markdown",
      "source": [
        "Recommend Movies"
      ],
      "metadata": {
        "id": "0w3p1cPKC83J"
      }
    },
    {
      "cell_type": "code",
      "source": [
        "def recommend_movies(user_profiles, movies, user_watched_movies):\n",
        "    recommendations = {}\n",
        "    for user_id, profile in user_profiles.items():\n",
        "        scores = []\n",
        "        watched_movie_ids = {movie['movie_id'] for movie in user_watched_movies[user_id]}\n",
        "        for movie_id, movie_data in movies.items():\n",
        "            if movie_id not in watched_movie_ids:\n",
        "                genres = movie_data['genres'].split(', ')\n",
        "                movie_profile = {}\n",
        "                for genre in genres:\n",
        "                    if ': ' in genre:\n",
        "                        genre_name = genre.split(': ')[1].strip('\"\"}')\n",
        "                    else:\n",
        "                        genre_name = genre.strip('\"\"}')\n",
        "                    movie_profile[genre_name] = 1\n",
        "                similarity = cosine_similarity(profile, movie_profile)\n",
        "                scores.append((movie_id, similarity))\n",
        "        scores.sort(key=lambda x: x[1], reverse=True)\n",
        "        recommendations[user_id] = scores[:10]\n",
        "    return recommendations\n",
        "\n"
      ],
      "metadata": {
        "id": "kcQ-4HTb8SsO"
      },
      "execution_count": null,
      "outputs": []
    },
    {
      "cell_type": "markdown",
      "source": [
        "Save And Run"
      ],
      "metadata": {
        "id": "cmbjVaxCC_j7"
      }
    },
    {
      "cell_type": "code",
      "source": [
        "def save_and_display_recommendations_to_file(recommendations, movies, filename='part1_0615971_output.txt'):\n",
        "    with open(filename, 'w') as file:\n",
        "        for user, recs in recommendations.items():\n",
        "            header = f\"User {user}:\\n\"\n",
        "            file.write(header)\n",
        "            print(header.strip())\n",
        "\n",
        "            for movie_id, score in recs:\n",
        "                movie_name = movies[movie_id]['movie_name']\n",
        "                line = f\"  Movie-{movie_name} (ID: {movie_id}): {score:.4f}\\n\"\n",
        "                file.write(line)\n",
        "                print(line.strip())\n",
        "\n",
        "\n",
        "\n",
        "# Load data\n",
        "users = load_users('/content/drive/MyDrive/ColabNotebooks/movie.users.txt')\n",
        "movies = load_movies('/content/drive/MyDrive/ColabNotebooks/movie.metadata_plot_summary_test.txt')\n",
        "\n",
        "# Create user profiles\n",
        "user_profiles = create_user_profiles(users)\n",
        "\n",
        "# Recommend movies\n",
        "recommendations = recommend_movies(user_profiles, movies, users)\n",
        "\n",
        "# Display results\n",
        "save_and_display_recommendations_to_file(recommendations, movies)\n"
      ],
      "metadata": {
        "colab": {
          "base_uri": "https://localhost:8080/"
        },
        "id": "iMrTsuUn83jm",
        "outputId": "ab7bb2c1-486d-44c7-8282-30142fc6dcdc"
      },
      "execution_count": null,
      "outputs": [
        {
          "output_type": "stream",
          "name": "stdout",
          "text": [
            "Loaded 3 users\n",
            "Loaded 43 movies\n",
            "User 1:\n",
            "Movie-Pain & Gain (ID: 32258845): 0.6218\n",
            "Movie-Getaway (ID: 35815373): 0.3928\n",
            "Movie-The Texas Chainsaw Massacre 3D (ID: 32291194): 0.3100\n",
            "Movie-Matru Ki Bijlee Ka Mandola (ID: 34737436): 0.2967\n",
            "Movie-The Croods (ID: 26508404): 0.2967\n",
            "Movie-The Abandoned State (ID: 34711939): 0.2826\n",
            "Movie-The Tomb (ID: 35313233): 0.1998\n",
            "Movie-Now You See Me (ID: 35699958): 0.1998\n",
            "Movie-Invertigo (ID: 36034066): 0.1978\n",
            "Movie-Escape from Planet Earth (ID: 33757322): 0.1978\n",
            "User 2:\n",
            "Movie-Turbo (ID: 34643655): 0.8714\n",
            "Movie-Invertigo (ID: 36034066): 0.7988\n",
            "Movie-Escape from Planet Earth (ID: 33757322): 0.7988\n",
            "Movie-Elysium (ID: 30340901): 0.6162\n",
            "Movie-Welcome to the Punch (ID: 32784153): 0.6162\n",
            "Movie-The Tomb (ID: 35313233): 0.5809\n",
            "Movie-Now You See Me (ID: 35699958): 0.5809\n",
            "Movie-The Young and Prodigious Spivet (ID: 36332870): 0.5798\n",
            "Movie-Noah (ID: 36534974): 0.5774\n",
            "Movie-Pacific Rim (ID: 32112949): 0.5485\n",
            "User 3:\n",
            "Movie-Gangster Squad (ID: 32438858): 0.9988\n",
            "Movie-Deconstruction Red (ID: 34907074): 0.7062\n",
            "Movie-Invertigo (ID: 36034066): 0.7062\n",
            "Movie-Escape from Planet Earth (ID: 33757322): 0.7062\n",
            "Movie-Safe Haven (ID: 36181024): 0.6055\n",
            "Movie-Rush (ID: 35460624): 0.5766\n",
            "Movie-After Earth (ID: 34429259): 0.5766\n",
            "Movie-Ruby (ID: 35777727): 0.5766\n",
            "Movie-Broken City (ID: 33927471): 0.4994\n",
            "Movie-The Tomb (ID: 35313233): 0.4994\n"
          ]
        }
      ]
    }
  ]
}