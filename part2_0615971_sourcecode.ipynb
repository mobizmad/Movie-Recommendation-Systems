{
  "nbformat": 4,
  "nbformat_minor": 0,
  "metadata": {
    "colab": {
      "provenance": []
    },
    "kernelspec": {
      "name": "python3",
      "display_name": "Python 3"
    },
    "language_info": {
      "name": "python"
    }
  },
  "cells": [
    {
      "cell_type": "code",
      "source": [
        "from google.colab import drive\n",
        "import numpy as np\n",
        "import pandas as pd\n",
        "import math"
      ],
      "metadata": {
        "id": "7bTzjliSEBQf"
      },
      "execution_count": null,
      "outputs": []
    },
    {
      "cell_type": "code",
      "source": [
        "# Step 1: Mount Google Drive\n",
        "def mount_drive():\n",
        "    drive.mount('/content/drive')"
      ],
      "metadata": {
        "id": "r6WiCRbTEE40"
      },
      "execution_count": null,
      "outputs": []
    },
    {
      "cell_type": "code",
      "source": [
        "# Step 2: Load User and Movie Data\n",
        "def load_data():\n",
        "    users = pd.read_csv(\"/content/drive/MyDrive/ColabNotebooks/movie.users.txt\", sep=\"\\t\", header=None,\n",
        "                        names=['user_id', 'movie_id', 'freebase_id', 'movie_name', 'release_year', 'box_office',\n",
        "                               'runtime', 'language', 'countries', 'genres', 'plot_summary'])\n",
        "    movies = pd.read_csv('/content/drive/MyDrive/ColabNotebooks/movie.metadata_plot_summary_test.txt', sep=\"\\t\", header=None,\n",
        "                         names=['movie_id', 'freebase_id', 'movie_name', 'release_year', 'box_office', 'runtime',\n",
        "                                'language', 'countries', 'genres', 'plot_summary'])\n",
        "\n",
        "    users = users.dropna(subset=['plot_summary'])\n",
        "    movies = movies.dropna(subset=['plot_summary'])\n",
        "    return users, movies"
      ],
      "metadata": {
        "id": "1pMOnoxbEH6D"
      },
      "execution_count": null,
      "outputs": []
    },
    {
      "cell_type": "code",
      "source": [
        "# Step 3: Compute TF-IDF\n",
        "import numpy as np\n",
        "import math\n",
        "\n",
        "def compute_tf_idf(texts):\n",
        "\n",
        "    tf_idf_profiles = []\n",
        "    idf_dict = {}\n",
        "    N = len(texts)\n",
        "\n",
        "\n",
        "    for text in texts:\n",
        "        words = set(text.lower().split())\n",
        "        for word in words:\n",
        "\n",
        "            idf_dict[word] = idf_dict.get(word, 0) + 1\n",
        "\n",
        "    for word in idf_dict:\n",
        "        idf_dict[word] = np.log(N / (1 + idf_dict[word]))\n",
        "\n",
        "\n",
        "    for text in texts:\n",
        "\n",
        "        tf_dict = {}\n",
        "        words = text.lower().split()\n",
        "        word_count = len(words)\n",
        "\n",
        "\n",
        "        for word in words:\n",
        "            tf_dict[word] = tf_dict.get(word, 0) + 1\n",
        "        tf_dict = {word: count / word_count for word, count in tf_dict.items()}\n",
        "\n",
        "        tf_idf_dict = {}\n",
        "        for word, tf in tf_dict.items():\n",
        "            idf = idf_dict.get(word, 0)\n",
        "            tf_idf_dict[word] = tf * idf\n",
        "\n",
        "\n",
        "        norm = math.sqrt(sum(val ** 2 for val in tf_idf_dict.values()))\n",
        "        if norm > 0:\n",
        "            normalized_tfidf = {word: val / norm for word, val in tf_idf_dict.items()}\n",
        "        else:\n",
        "            normalized_tfidf = tf_idf_dict\n",
        "\n",
        "        tf_idf_profiles.append(normalized_tfidf)\n",
        "\n",
        "    return tf_idf_profiles\n"
      ],
      "metadata": {
        "id": "2HyQyW8pEKYt"
      },
      "execution_count": null,
      "outputs": []
    },
    {
      "cell_type": "code",
      "source": [
        "# Step 4: Create User and Movie Profiles\n",
        "def create_profiles(users, movies):\n",
        "    user_profiles = compute_tf_idf(users['plot_summary'].tolist())\n",
        "    movie_profiles = compute_tf_idf(movies['plot_summary'].tolist())\n",
        "\n",
        "    user_profiles_dict = dict(zip(users['user_id'], user_profiles))\n",
        "    movie_profiles_dict = dict(zip(movies['movie_id'], movie_profiles))\n",
        "\n",
        "    return user_profiles_dict, movie_profiles_dict"
      ],
      "metadata": {
        "id": "QxEG8eqxEn3G"
      },
      "execution_count": null,
      "outputs": []
    },
    {
      "cell_type": "code",
      "source": [
        "# Step 5: Calculate Cosine Similarity\n",
        "def cosine_similarity(profile1, profile2):\n",
        "    common_keys = set(profile1.keys()) & set(profile2.keys())\n",
        "    dot_product = sum(profile1[key] * profile2[key] for key in common_keys)\n",
        "    magnitude1 = math.sqrt(sum(profile1[key] ** 2 for key in profile1))\n",
        "    magnitude2 = math.sqrt(sum(profile2[key] ** 2 for key in profile2))\n",
        "    return dot_product / (magnitude1 * magnitude2) if magnitude1 and magnitude2 else 0\n"
      ],
      "metadata": {
        "id": "LK6gs0CXEqIK"
      },
      "execution_count": null,
      "outputs": []
    },
    {
      "cell_type": "code",
      "source": [
        "# Step 6: Recommend Top 10 Movies for Each User\n",
        "def recommend_movies(user_profiles, movie_profiles):\n",
        "    recommendations = {}\n",
        "    for user_id, user_profile in user_profiles.items():\n",
        "        recs = []\n",
        "        for movie_id, movie_profile in movie_profiles.items():\n",
        "            similarity = cosine_similarity(user_profile, movie_profile)\n",
        "            recs.append((movie_id, similarity))\n",
        "        recs.sort(key=lambda x: x[1], reverse=True)\n",
        "        recommendations[user_id] = recs[:10]\n",
        "    return recommendations\n"
      ],
      "metadata": {
        "id": "Bvau-62vEsfU"
      },
      "execution_count": null,
      "outputs": []
    },
    {
      "cell_type": "code",
      "source": [
        "# Step 7: Save and Run\n",
        "def save_and_display_recommendations(recommendations, movies, filename='part2_0615971_output.txt'):\n",
        "    with open(filename, 'w') as file:\n",
        "        for user_id, recs in recommendations.items():\n",
        "            header = f\"Top 10 movies for User {user_id}:\\n\"\n",
        "            file.write(header)\n",
        "            print(header.strip())\n",
        "\n",
        "            for movie_id, score in recs:\n",
        "                movie_name = movies[movies['movie_id'] == movie_id]['movie_name'].values[0]\n",
        "                line = f\"Movie: {movie_name}, Similarity: {score:.4f}\\n\"\n",
        "                file.write(line)\n",
        "                print(line.strip())\n",
        "\n",
        "\n",
        "\n",
        "mount_drive()\n",
        "\n",
        "users, movies = load_data()\n",
        "\n",
        "user_profiles, movie_profiles = create_profiles(users, movies)\n",
        "\n",
        "recommendations = recommend_movies(user_profiles, movie_profiles)\n",
        "\n",
        "save_and_display_recommendations(recommendations, movies)"
      ],
      "metadata": {
        "colab": {
          "base_uri": "https://localhost:8080/"
        },
        "id": "pgONVokTEwHg",
        "outputId": "aa3223cf-f863-4a9c-9754-b4b128daafb8"
      },
      "execution_count": null,
      "outputs": [
        {
          "output_type": "stream",
          "name": "stdout",
          "text": [
            "Mounted at /content/drive\n",
            "Top 10 movies for User 1:\n",
            "Movie: G.I. Joe: Retaliation, Similarity: 0.0459\n",
            "Movie: U.F.O., Similarity: 0.0345\n",
            "Movie: Safe Haven, Similarity: 0.0317\n",
            "Movie: The Abandoned State, Similarity: 0.0282\n",
            "Movie: Pain & Gain, Similarity: 0.0270\n",
            "Movie: Machete Kills, Similarity: 0.0256\n",
            "Movie: Ruby, Similarity: 0.0245\n",
            "Movie: Ender's Game, Similarity: 0.0233\n",
            "Movie: Kai Po Che!, Similarity: 0.0227\n",
            "Movie: The Tomb, Similarity: 0.0227\n",
            "Top 10 movies for User 2:\n",
            "Movie: Deconstruction Red, Similarity: 0.0789\n",
            "Movie: Monsters University, Similarity: 0.0737\n",
            "Movie: Oz: The Great and Powerful, Similarity: 0.0717\n",
            "Movie: The Railway Man, Similarity: 0.0549\n",
            "Movie: Turbo, Similarity: 0.0474\n",
            "Movie: After Earth, Similarity: 0.0450\n",
            "Movie: Ruby, Similarity: 0.0434\n",
            "Movie: The Seventh Son, Similarity: 0.0373\n",
            "Movie: Machete Kills, Similarity: 0.0373\n",
            "Movie: The Croods, Similarity: 0.0360\n",
            "Top 10 movies for User 3:\n",
            "Movie: The Seventh Son, Similarity: 0.0820\n",
            "Movie: The Abandoned State, Similarity: 0.0736\n",
            "Movie: Matru Ki Bijlee Ka Mandola, Similarity: 0.0647\n",
            "Movie: Ruby, Similarity: 0.0597\n",
            "Movie: Oz: The Great and Powerful, Similarity: 0.0458\n",
            "Movie: The Host, Similarity: 0.0442\n",
            "Movie: Monsters University, Similarity: 0.0320\n",
            "Movie: Deconstruction Red, Similarity: 0.0310\n",
            "Movie: Turbo, Similarity: 0.0308\n",
            "Movie: Kai Po Che!, Similarity: 0.0287\n"
          ]
        }
      ]
    },
    {
      "cell_type": "code",
      "source": [],
      "metadata": {
        "id": "A-7A9xFbEwoZ"
      },
      "execution_count": null,
      "outputs": []
    }
  ]
}