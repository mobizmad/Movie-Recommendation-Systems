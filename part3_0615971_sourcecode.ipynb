{
  "nbformat": 4,
  "nbformat_minor": 0,
  "metadata": {
    "colab": {
      "provenance": []
    },
    "kernelspec": {
      "name": "python3",
      "display_name": "Python 3"
    },
    "language_info": {
      "name": "python"
    }
  },
  "cells": [
    {
      "cell_type": "code",
      "source": [
        "from google.colab import drive\n",
        "import numpy as np\n",
        "import pandas as pd\n",
        "import math"
      ],
      "metadata": {
        "id": "pNEPrQENGGrn"
      },
      "execution_count": null,
      "outputs": []
    },
    {
      "cell_type": "code",
      "source": [
        "# Define stop words\n",
        "stop_words = set([\n",
        "    'a', 'able', 'about', 'above', 'according', 'accordingly', 'across', 'actually', 'after', 'afterwards',\n",
        "    'again', 'against', 'ain\\'t', 'all', 'allow', 'allows', 'almost', 'alone', 'along', 'already', 'also',\n",
        "    'although', 'always', 'am', 'among', 'amongst', 'an', 'and', 'another', 'any', 'anybody', 'anyhow',\n",
        "    'anyone', 'anything', 'anyway', 'anyways', 'anywhere', 'apart', 'appear', 'appreciate', 'appropriate',\n",
        "    'are', 'aren\\'t', 'around', 'as', 'aside', 'ask', 'asking', 'associated', 'at', 'available', 'away',\n",
        "    'awfully', 'be', 'became', 'because', 'become', 'becomes', 'becoming', 'been', 'before', 'beforehand',\n",
        "    'behind', 'being', 'believe', 'below', 'beside', 'besides', 'best', 'better', 'between', 'beyond', 'both',\n",
        "    'brief', 'but', 'by', 'c\\'mon', 'c\\'s', 'came', 'can', 'can\\'t', 'cannot', 'cant', 'cause', 'causes',\n",
        "    'certain', 'certainly', 'changes', 'clearly', 'co', 'com', 'come', 'comes', 'concerning', 'consequently',\n",
        "    'consider', 'considering', 'contain', 'containing', 'contains', 'corresponding', 'could', 'couldn\\'t',\n",
        "    'course', 'currently', 'definitely', 'described', 'despite', 'did', 'didn\\'t', 'different', 'do',\n",
        "    'does', 'doesn\\'t', 'doing', 'don\\'t', 'done', 'down', 'downwards', 'during', 'each', 'edu', 'eg',\n",
        "    'eight', 'either', 'else', 'elsewhere', 'enough', 'entirely', 'especially', 'et', 'etc', 'even', 'ever',\n",
        "    'every', 'everybody', 'everyone', 'everything', 'everywhere', 'ex', 'exactly', 'example', 'except',\n",
        "    'far', 'few', 'fifth', 'first', 'five', 'followed', 'following', 'follows', 'for', 'former', 'formerly',\n",
        "    'forth', 'four', 'from', 'further', 'furthermore', 'get', 'gets', 'getting', 'given', 'gives', 'go',\n",
        "    'goes', 'going', 'gone', 'got', 'gotten', 'greetings', 'had', 'hadn\\'t', 'happens', 'hardly', 'has',\n",
        "    'hasn\\'t', 'have', 'haven\\'t', 'having', 'he', 'he\\'s', 'hello', 'help', 'hence', 'her', 'here',\n",
        "    'here\\'s', 'hereafter', 'hereby', 'herein', 'hereupon', 'hers', 'herself', 'hi', 'him', 'himself',\n",
        "    'his', 'hither', 'hopefully', 'how', 'howbeit', 'however', 'i\\'d', 'i\\'ll', 'i\\'m', 'i\\'ve', 'ie', 'if',\n",
        "    'ignored', 'immediate', 'in', 'inasmuch', 'inc', 'indeed', 'indicate', 'indicated', 'indicates', 'inner',\n",
        "    'insofar', 'instead', 'into', 'inward', 'is', 'isn\\'t', 'it', 'it\\'d', 'it\\'ll', 'it\\'s', 'its', 'itself',\n",
        "    'just', 'keep', 'keeps', 'kept', 'know', 'known', 'knows', 'last', 'lately', 'later', 'latter',\n",
        "    'latterly', 'least', 'less', 'lest', 'let', 'let\\'s', 'like', 'liked', 'likely', 'little', 'look',\n",
        "    'looking', 'looks', 'ltd', 'mainly', 'many', 'may', 'maybe', 'me', 'mean', 'meanwhile', 'merely',\n",
        "    'might', 'more', 'moreover', 'most', 'mostly', 'much', 'must', 'my', 'myself', 'name', 'namely',\n",
        "    'nd', 'near', 'nearly', 'necessary', 'need', 'needs', 'neither', 'never', 'nevertheless', 'new',\n",
        "    'next', 'nine', 'no', 'nobody', 'non', 'none', 'noone', 'nor', 'normally', 'not', 'nothing', 'novel',\n",
        "    'now', 'nowhere', 'obviously', 'of', 'off', 'often', 'oh', 'ok', 'okay', 'old', 'on', 'once', 'one',\n",
        "    'ones', 'only', 'onto', 'or', 'other', 'others', 'otherwise', 'ought', 'our', 'ours', 'ourselves',\n",
        "    'out', 'outside', 'over', 'overall', 'own', 'particular', 'particularly', 'per', 'perhaps', 'placed',\n",
        "    'please', 'plus', 'possible', 'presumably', 'probably', 'provides', 'que', 'quite', 'qv', 'rather',\n",
        "    'rd', 're', 'really', 'reasonably', 'regarding', 'regardless', 'regards', 'relatively', 'respectively',\n",
        "    'right', 'said', 'same', 'saw', 'say', 'saying', 'says', 'second', 'secondly', 'see', 'seeing', 'seem',\n",
        "    'seemed', 'seeming', 'seems', 'seen', 'self', 'selves', 'sensible', 'sent', 'serious', 'seriously',\n",
        "    'seven', 'several', 'shall', 'she', 'should', 'shouldn\\'t', 'since', 'six', 'so', 'some', 'somebody',\n",
        "    'somehow', 'someone', 'something', 'sometime', 'sometimes', 'somewhat', 'somewhere', 'soon', 'sorry',\n",
        "    'specified', 'specify', 'specifying', 'still', 'sub', 'such', 'sup', 'sure', 't\\'s', 'take', 'taken',\n",
        "    'tell', 'tends', 'th', 'than', 'thank', 'thanks', 'thanx', 'that', 'that\\'s', 'thats', 'the', 'their',\n",
        "    'theirs', 'them', 'themselves', 'then', 'thence', 'there', 'there\\'s', 'thereafter', 'thereby',\n",
        "    'therefore', 'therein', 'theres', 'thereupon', 'these', 'they', 'they\\'d', 'they\\'ll', 'they\\'re',\n",
        "    'they\\'ve', 'think', 'third', 'this', 'thorough', 'thoroughly', 'those', 'though', 'three', 'through',\n",
        "    'throughout', 'thru', 'thus', 'to', 'together', 'too', 'took', 'toward', 'towards', 'tried', 'tries',\n",
        "    'truly', 'try', 'trying', 'twice', 'two', 'un', 'under', 'unfortunately', 'unless', 'unlikely',\n",
        "    'until', 'unto', 'up', 'upon', 'us', 'use', 'used', 'useful', 'uses', 'using', 'usually', 'value',\n",
        "    'various', 'very', 'via', 'viz', 'vs', 'want', 'wants', 'was', 'wasn\\'t', 'way', 'we', 'we\\'d',\n",
        "    'we\\'ll', 'we\\'re', 'we\\'ve', 'welcome', 'well', 'went', 'were', 'weren\\'t', 'what', 'what\\'s',\n",
        "    'whatever', 'when', 'whence', 'whenever', 'where', 'where\\'s', 'whereafter', 'whereas', 'whereby',\n",
        "    'wherein', 'whereupon', 'wherever', 'whether', 'which', 'while', 'whither', 'who', 'who\\'s',\n",
        "    'whoever', 'whole', 'whom', 'whose', 'why', 'will', 'willing', 'wish', 'with', 'within', 'without',\n",
        "    'won\\'t', 'wonder', 'would', 'wouldn\\'t', 'yes', 'yet', 'you', 'you\\'d', 'you\\'ll', 'you\\'re',\n",
        "    'you\\'ve', 'your', 'yours', 'yourself', 'yourselves'\n",
        "])\n"
      ],
      "metadata": {
        "id": "iC3FeXJBGIrt"
      },
      "execution_count": null,
      "outputs": []
    },
    {
      "cell_type": "code",
      "source": [
        "# Step 1: Mount Google Drive\n",
        "def mount_drive():\n",
        "    drive.mount('/content/drive')"
      ],
      "metadata": {
        "id": "gZmW3Gd2GMCP"
      },
      "execution_count": null,
      "outputs": []
    },
    {
      "cell_type": "code",
      "source": [
        "# Step 2: Load User and Movie Data\n",
        "def load_data():\n",
        "    users = pd.read_csv(\"/content/drive/MyDrive/ColabNotebooks/movie.users.txt\", sep=\"\\t\", header=None,\n",
        "                        names=['user_id', 'movie_id', 'freebase_id', 'movie_name', 'release_year', 'box_office',\n",
        "                               'runtime', 'language', 'countries', 'genres', 'plot_summary'])\n",
        "    movies = pd.read_csv('/content/drive/MyDrive/ColabNotebooks/movie.metadata_plot_summary_test.txt', sep=\"\\t\", header=None,\n",
        "                         names=['movie_id', 'freebase_id', 'movie_name', 'release_year', 'box_office', 'runtime',\n",
        "                                'language', 'countries', 'genres', 'plot_summary'])\n",
        "\n",
        "    # Drop rows where 'plot_summary' is missing\n",
        "    users = users.dropna(subset=['plot_summary'])\n",
        "    movies = movies.dropna(subset=['plot_summary'])\n",
        "    return users, movies\n"
      ],
      "metadata": {
        "id": "lyrX1IopGOr4"
      },
      "execution_count": null,
      "outputs": []
    },
    {
      "cell_type": "code",
      "source": [
        "# Step 3: Compute TF-IDF with Stop Word Filtering\n",
        "def compute_tf_idf(texts):\n",
        "    tf_idf_profiles = []\n",
        "    idf_dict = {}\n",
        "    N = len(texts)\n",
        "\n",
        "\n",
        "    for text in texts:\n",
        "        words = set(text.lower().split())\n",
        "        filtered_words = [word for word in words if word not in stop_words]\n",
        "        for word in filtered_words:\n",
        "            idf_dict[word] = idf_dict.get(word, 0) + 1\n",
        "\n",
        "\n",
        "    for word in idf_dict:\n",
        "        idf_dict[word] = np.log(N / (1 + idf_dict[word]))\n",
        "\n",
        "\n",
        "    for text in texts:\n",
        "        tf_dict = {}\n",
        "        words = [word for word in text.lower().split() if word not in stop_words]\n",
        "        word_count = len(words)\n",
        "\n",
        "\n",
        "        for word in words:\n",
        "            tf_dict[word] = tf_dict.get(word, 0) + 1\n",
        "        tf_dict = {word: count / word_count for word, count in tf_dict.items()}\n",
        "\n",
        "\n",
        "        tf_idf_dict = {}\n",
        "        for word, tf in tf_dict.items():\n",
        "            idf = idf_dict.get(word, 0)\n",
        "            tf_idf_dict[word] = tf * idf\n",
        "\n",
        "        norm = math.sqrt(sum(val ** 2 for val in tf_idf_dict.values()))\n",
        "        normalized_tfidf = {word: val / norm for word, val in tf_idf_dict.items()} if norm > 0 else tf_idf_dict\n",
        "\n",
        "\n",
        "        tf_idf_profiles.append(normalized_tfidf)\n",
        "\n",
        "    return tf_idf_profiles\n"
      ],
      "metadata": {
        "id": "tGkwopm2GQuz"
      },
      "execution_count": null,
      "outputs": []
    },
    {
      "cell_type": "code",
      "source": [
        "# Step 4: Create User and Movie Profiles\n",
        "def create_profiles(users, movies):\n",
        "    user_profiles = compute_tf_idf(users['plot_summary'].tolist())\n",
        "    movie_profiles = compute_tf_idf(movies['plot_summary'].tolist())\n",
        "\n",
        "    user_profiles_dict = dict(zip(users['user_id'], user_profiles))\n",
        "    movie_profiles_dict = dict(zip(movies['movie_id'], movie_profiles))\n",
        "\n",
        "    return user_profiles_dict, movie_profiles_dict"
      ],
      "metadata": {
        "id": "jtybivARGVUv"
      },
      "execution_count": null,
      "outputs": []
    },
    {
      "cell_type": "code",
      "source": [
        "# Step 5: Calculate Cosine Similarity\n",
        "def cosine_similarity(profile1, profile2):\n",
        "    common_keys = set(profile1.keys()) & set(profile2.keys())\n",
        "    dot_product = sum(profile1[key] * profile2[key] for key in common_keys)\n",
        "    magnitude1 = math.sqrt(sum(profile1[key] ** 2 for key in profile1))\n",
        "    magnitude2 = math.sqrt(sum(profile2[key] ** 2 for key in profile2))\n",
        "    return dot_product / (magnitude1 * magnitude2) if magnitude1 and magnitude2 else 0\n"
      ],
      "metadata": {
        "id": "uc2dR9C9GXR1"
      },
      "execution_count": null,
      "outputs": []
    },
    {
      "cell_type": "code",
      "source": [
        "\n",
        "# Step 6: Recommend Top 10 Movies for Each User\n",
        "def recommend_movies(user_profiles, movie_profiles):\n",
        "    recommendations = {}\n",
        "    for user_id, user_profile in user_profiles.items():\n",
        "        recs = []\n",
        "        for movie_id, movie_profile in movie_profiles.items():\n",
        "            similarity = cosine_similarity(user_profile, movie_profile)\n",
        "            recs.append((movie_id, similarity))\n",
        "        recs.sort(key=lambda x: x[1], reverse=True)\n",
        "        recommendations[user_id] = recs[:10]\n",
        "    return recommendations"
      ],
      "metadata": {
        "id": "8SMzmSNYGZl4"
      },
      "execution_count": null,
      "outputs": []
    },
    {
      "cell_type": "code",
      "source": [
        "# Step 7: Save And Run\n",
        "def save_and_display_recommendations(recommendations, movies, filename='part2_0615971_output.txt'):\n",
        "    with open(filename, 'w') as file:\n",
        "        for user_id, recs in recommendations.items():\n",
        "            header = f\"Top 10 movies for User {user_id}:\\n\"\n",
        "            file.write(header)\n",
        "            print(header.strip())\n",
        "\n",
        "            for movie_id, score in recs:\n",
        "                movie_name = movies[movies['movie_id'] == movie_id]['movie_name'].values[0]\n",
        "                line = f\"Movie: {movie_name}, Similarity: {score:.4f}\\n\"\n",
        "                file.write(line)\n",
        "                print(line.strip())\n",
        "\n",
        "# Main Script\n",
        "mount_drive()\n",
        "users, movies = load_data()\n",
        "\n",
        "# Create user and movie profiles\n",
        "user_profiles, movie_profiles = create_profiles(users, movies)\n",
        "\n",
        "# Generate movie recommendations\n",
        "recommendations = recommend_movies(user_profiles, movie_profiles)\n",
        "\n",
        "# Save recommendations to a file\n",
        "save_and_display_recommendations(recommendations, movies)"
      ],
      "metadata": {
        "colab": {
          "base_uri": "https://localhost:8080/"
        },
        "id": "whHWdrAFGb0V",
        "outputId": "d59a1f0c-fdca-424a-84d9-0fec1eab230d"
      },
      "execution_count": null,
      "outputs": [
        {
          "output_type": "stream",
          "name": "stdout",
          "text": [
            "Drive already mounted at /content/drive; to attempt to forcibly remount, call drive.mount(\"/content/drive\", force_remount=True).\n",
            "Top 10 movies for User 1:\n",
            "Movie: G.I. Joe: Retaliation, Similarity: 0.0357\n",
            "Movie: U.F.O., Similarity: 0.0338\n",
            "Movie: Safe Haven, Similarity: 0.0331\n",
            "Movie: The Abandoned State, Similarity: 0.0291\n",
            "Movie: Pain & Gain, Similarity: 0.0273\n",
            "Movie: Getaway, Similarity: 0.0232\n",
            "Movie: Machete Kills, Similarity: 0.0222\n",
            "Movie: Ender's Game, Similarity: 0.0193\n",
            "Movie: Kai Po Che!, Similarity: 0.0174\n",
            "Movie: Deconstruction Red, Similarity: 0.0172\n",
            "Top 10 movies for User 2:\n",
            "Movie: Monsters University, Similarity: 0.0780\n",
            "Movie: Deconstruction Red, Similarity: 0.0709\n",
            "Movie: Oz: The Great and Powerful, Similarity: 0.0451\n",
            "Movie: Ruby, Similarity: 0.0338\n",
            "Movie: Pain & Gain, Similarity: 0.0302\n",
            "Movie: Rush, Similarity: 0.0234\n",
            "Movie: The Railway Man, Similarity: 0.0231\n",
            "Movie: Broken City, Similarity: 0.0228\n",
            "Movie: Bullet to the Head, Similarity: 0.0212\n",
            "Movie: Turbo, Similarity: 0.0210\n",
            "Top 10 movies for User 3:\n",
            "Movie: Matru Ki Bijlee Ka Mandola, Similarity: 0.0512\n",
            "Movie: The Seventh Son, Similarity: 0.0462\n",
            "Movie: Oz: The Great and Powerful, Similarity: 0.0361\n",
            "Movie: The Abandoned State, Similarity: 0.0324\n",
            "Movie: Deconstruction Red, Similarity: 0.0299\n",
            "Movie: Ruby, Similarity: 0.0223\n",
            "Movie: Invertigo, Similarity: 0.0170\n",
            "Movie: Monsters University, Similarity: 0.0149\n",
            "Movie: The Railway Man, Similarity: 0.0142\n",
            "Movie: Rush, Similarity: 0.0142\n"
          ]
        }
      ]
    }
  ]
}